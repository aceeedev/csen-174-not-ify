{
 "cells": [
  {
   "cell_type": "code",
   "execution_count": 1,
   "id": "f6c02919",
   "metadata": {},
   "outputs": [
    {
     "name": "stdout",
     "output_type": "stream",
     "text": [
      "User1 => {'UserID': '1', 'Email': 'user1@gmail.com', 'ProfilePhoto': 'lka4jf;l2kjasL:EKJF;qwlkjf', 'Groups': ['GroupID1'], 'Password': 'password1', 'isAdmin': True}\n"
     ]
    }
   ],
   "source": [
    "import firebase_admin\n",
    "from firebase_admin import credentials\n",
    "from firebase_admin import firestore\n",
    "\n",
    "# Use a service account.\n",
    "cred = credentials.Certificate('serviceAccount.json')\n",
    "app = firebase_admin.initialize_app(cred)\n",
    "db = firestore.client()\n",
    "# Reference to the 'Users' collection\n",
    "users_ref = db.collection('Users')\n",
    "# Stream all documents in the collection\n",
    "docs = users_ref.stream()\n",
    "\n",
    "for doc in docs:\n",
    "    print(f\"{doc.id} => {doc.to_dict()}\")"
   ]
  },
  {
   "cell_type": "code",
   "execution_count": null,
   "id": "204b2c82",
   "metadata": {},
   "outputs": [],
   "source": [
    "playlists_ref = db.collection('Playlists')\n",
    "playlists_ref.document(\"new-test\")\n"
   ]
  }
 ],
 "metadata": {
  "kernelspec": {
   "display_name": "Python 3",
   "language": "python",
   "name": "python3"
  },
  "language_info": {
   "codemirror_mode": {
    "name": "ipython",
    "version": 3
   },
   "file_extension": ".py",
   "mimetype": "text/x-python",
   "name": "python",
   "nbconvert_exporter": "python",
   "pygments_lexer": "ipython3",
   "version": "3.11.9"
  }
 },
 "nbformat": 4,
 "nbformat_minor": 5
}
